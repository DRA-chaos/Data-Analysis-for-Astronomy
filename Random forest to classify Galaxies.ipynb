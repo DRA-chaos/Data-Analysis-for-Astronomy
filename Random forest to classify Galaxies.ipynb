{
 "cells": [
  {
   "cell_type": "code",
   "execution_count": 3,
   "metadata": {},
   "outputs": [],
   "source": [
    "import numpy as np"
   ]
  },
  {
   "cell_type": "code",
   "execution_count": 4,
   "metadata": {},
   "outputs": [],
   "source": [
    "data= np.load('galaxy_catalogue.npy')"
   ]
  },
  {
   "cell_type": "code",
   "execution_count": 5,
   "metadata": {},
   "outputs": [
    {
     "name": "stdout",
     "output_type": "stream",
     "text": [
      "u-g        1.85765\n",
      "g-r        0.67158\n",
      "r-i        0.4231\n",
      "i-z        0.3061\n",
      "ecc        0.585428\n",
      "m4_u       2.25195\n",
      "m4_g       2.33985\n",
      "m4_r       2.38065\n",
      "m4_i       2.35974\n",
      "m4_z       2.39553\n",
      "petroR50_u 3.09512\n",
      "petroR50_r 3.81892\n",
      "petroR50_z 3.82623\n",
      "petroR90_u 5.17481\n",
      "petroR90_r 8.26301\n",
      "petroR90_z 11.4773\n",
      "class      merger\n"
     ]
    }
   ],
   "source": [
    "for name, value in zip(data.dtype.names, data[0]):\n",
    "  print('{:10} {:.6}'.format(name, value))"
   ]
  },
  {
   "cell_type": "code",
   "execution_count": 8,
   "metadata": {},
   "outputs": [
    {
     "data": {
      "text/plain": [
       "dtype([('u-g', '<f8'), ('g-r', '<f8'), ('r-i', '<f8'), ('i-z', '<f8'), ('ecc', '<f8'), ('m4_u', '<f8'), ('m4_g', '<f8'), ('m4_r', '<f8'), ('m4_i', '<f8'), ('m4_z', '<f8'), ('petroR50_u', '<f8'), ('petroR50_r', '<f8'), ('petroR50_z', '<f8'), ('petroR90_u', '<f8'), ('petroR90_r', '<f8'), ('petroR90_z', '<f8'), ('class', '<U20')])"
      ]
     },
     "execution_count": 8,
     "metadata": {},
     "output_type": "execute_result"
    }
   ],
   "source": [
    "data.dtype\n"
   ]
  },
  {
   "cell_type": "code",
   "execution_count": 18,
   "metadata": {},
   "outputs": [
    {
     "name": "stdout",
     "output_type": "stream",
     "text": [
      "u-g          1.85765\n",
      "g-r          0.67158\n",
      "r-i          0.4231\n",
      "i-z          0.3061\n",
      "ecc          0.5854284\n",
      "m4_u         2.251946\n",
      "m4_g         2.339849\n",
      "m4_r         2.380652\n",
      "m4_i         2.359738\n",
      "m4_z         2.395528\n",
      "petroR50_u   3.095123\n",
      "petroR50_r   3.818919\n",
      "petroR50_z   3.82623\n",
      "petroR90_u   5.174814\n",
      "petroR90_r   8.263009\n",
      "petroR90_z   11.47734\n",
      "class        merger\n"
     ]
    }
   ],
   "source": [
    "for name, value in zip(data.dtype.names, data[0]):\n",
    "  print('{:12} {:.7}'.format(name, value))"
   ]
  },
  {
   "cell_type": "code",
   "execution_count": 19,
   "metadata": {},
   "outputs": [
    {
     "data": {
      "text/plain": [
       "array(['merger', 'merger', 'merger', 'merger', 'merger', 'merger',\n",
       "       'merger', 'merger', 'merger', 'merger', 'merger', 'merger',\n",
       "       'merger', 'merger', 'merger', 'merger', 'merger', 'merger',\n",
       "       'merger', 'merger', 'merger', 'merger', 'merger', 'merger',\n",
       "       'merger', 'merger', 'merger', 'merger', 'merger', 'merger',\n",
       "       'merger', 'merger', 'merger', 'merger', 'merger', 'merger',\n",
       "       'merger', 'merger', 'merger', 'merger', 'merger', 'merger',\n",
       "       'merger', 'merger', 'merger', 'merger', 'merger', 'merger',\n",
       "       'merger', 'merger', 'merger', 'merger', 'merger', 'merger',\n",
       "       'merger', 'merger', 'merger', 'merger', 'merger', 'merger',\n",
       "       'merger', 'merger', 'merger', 'merger', 'merger', 'merger',\n",
       "       'merger', 'merger', 'merger', 'merger', 'merger', 'merger',\n",
       "       'merger', 'merger', 'merger', 'merger', 'merger', 'merger',\n",
       "       'merger', 'merger', 'merger', 'merger', 'merger', 'merger',\n",
       "       'merger', 'merger', 'merger', 'merger', 'merger', 'merger',\n",
       "       'merger', 'merger', 'merger', 'merger', 'merger', 'merger',\n",
       "       'merger', 'merger', 'merger', 'merger', 'merger', 'merger',\n",
       "       'merger', 'merger', 'merger', 'merger', 'merger', 'merger',\n",
       "       'merger', 'merger', 'merger', 'merger', 'merger', 'merger',\n",
       "       'merger', 'merger', 'merger', 'merger', 'merger', 'merger',\n",
       "       'merger', 'merger', 'merger', 'merger', 'merger', 'merger',\n",
       "       'merger', 'merger', 'merger', 'merger', 'merger', 'merger',\n",
       "       'merger', 'merger', 'merger', 'merger', 'merger', 'merger',\n",
       "       'merger', 'merger', 'merger', 'merger', 'merger', 'merger',\n",
       "       'merger', 'merger', 'merger', 'merger', 'merger', 'merger',\n",
       "       'merger', 'merger', 'merger', 'merger', 'merger', 'merger',\n",
       "       'merger', 'merger', 'merger', 'merger', 'merger', 'merger',\n",
       "       'merger', 'merger', 'merger', 'merger', 'merger', 'merger',\n",
       "       'merger', 'merger', 'merger', 'merger', 'merger', 'merger',\n",
       "       'merger', 'merger', 'merger', 'merger', 'merger', 'merger',\n",
       "       'merger', 'merger', 'merger', 'merger', 'merger', 'merger',\n",
       "       'merger', 'merger', 'merger', 'merger', 'merger', 'merger',\n",
       "       'merger', 'merger', 'merger', 'merger', 'merger', 'merger',\n",
       "       'merger', 'merger', 'merger', 'merger', 'merger', 'merger',\n",
       "       'merger', 'merger', 'merger', 'merger', 'merger', 'merger',\n",
       "       'merger', 'merger', 'merger', 'merger', 'merger', 'merger',\n",
       "       'merger', 'merger', 'merger', 'merger', 'merger', 'merger',\n",
       "       'merger', 'merger', 'merger', 'merger', 'merger', 'merger',\n",
       "       'merger', 'merger', 'merger', 'merger', 'merger', 'merger',\n",
       "       'merger', 'merger', 'merger', 'merger', 'merger', 'merger',\n",
       "       'merger', 'merger', 'merger', 'merger', 'merger', 'merger',\n",
       "       'merger', 'merger', 'merger', 'merger', 'merger', 'merger',\n",
       "       'merger', 'merger', 'merger', 'merger', 'merger', 'merger',\n",
       "       'merger', 'merger', 'elliptical', 'elliptical', 'elliptical',\n",
       "       'elliptical', 'elliptical', 'elliptical', 'elliptical',\n",
       "       'elliptical', 'elliptical', 'elliptical', 'elliptical',\n",
       "       'elliptical', 'elliptical', 'elliptical', 'elliptical',\n",
       "       'elliptical', 'elliptical', 'elliptical', 'elliptical',\n",
       "       'elliptical', 'elliptical', 'elliptical', 'elliptical',\n",
       "       'elliptical', 'elliptical', 'elliptical', 'elliptical',\n",
       "       'elliptical', 'elliptical', 'elliptical', 'elliptical',\n",
       "       'elliptical', 'elliptical', 'elliptical', 'elliptical',\n",
       "       'elliptical', 'elliptical', 'elliptical', 'elliptical',\n",
       "       'elliptical', 'elliptical', 'elliptical', 'elliptical',\n",
       "       'elliptical', 'elliptical', 'elliptical', 'elliptical',\n",
       "       'elliptical', 'elliptical', 'elliptical', 'elliptical',\n",
       "       'elliptical', 'elliptical', 'elliptical', 'elliptical',\n",
       "       'elliptical', 'elliptical', 'elliptical', 'elliptical',\n",
       "       'elliptical', 'elliptical', 'elliptical', 'elliptical',\n",
       "       'elliptical', 'elliptical', 'elliptical', 'elliptical',\n",
       "       'elliptical', 'elliptical', 'elliptical', 'elliptical',\n",
       "       'elliptical', 'elliptical', 'elliptical', 'elliptical',\n",
       "       'elliptical', 'elliptical', 'elliptical', 'elliptical',\n",
       "       'elliptical', 'elliptical', 'elliptical', 'elliptical',\n",
       "       'elliptical', 'elliptical', 'elliptical', 'elliptical',\n",
       "       'elliptical', 'elliptical', 'elliptical', 'elliptical',\n",
       "       'elliptical', 'elliptical', 'elliptical', 'elliptical',\n",
       "       'elliptical', 'elliptical', 'elliptical', 'elliptical',\n",
       "       'elliptical', 'elliptical', 'elliptical', 'elliptical',\n",
       "       'elliptical', 'elliptical', 'elliptical', 'elliptical',\n",
       "       'elliptical', 'elliptical', 'elliptical', 'elliptical',\n",
       "       'elliptical', 'elliptical', 'elliptical', 'elliptical',\n",
       "       'elliptical', 'elliptical', 'elliptical', 'elliptical',\n",
       "       'elliptical', 'elliptical', 'elliptical', 'elliptical',\n",
       "       'elliptical', 'elliptical', 'elliptical', 'elliptical',\n",
       "       'elliptical', 'elliptical', 'elliptical', 'elliptical',\n",
       "       'elliptical', 'elliptical', 'elliptical', 'elliptical',\n",
       "       'elliptical', 'elliptical', 'elliptical', 'elliptical',\n",
       "       'elliptical', 'elliptical', 'elliptical', 'elliptical',\n",
       "       'elliptical', 'elliptical', 'elliptical', 'elliptical',\n",
       "       'elliptical', 'elliptical', 'elliptical', 'elliptical',\n",
       "       'elliptical', 'elliptical', 'elliptical', 'elliptical',\n",
       "       'elliptical', 'elliptical', 'elliptical', 'elliptical',\n",
       "       'elliptical', 'elliptical', 'elliptical', 'elliptical',\n",
       "       'elliptical', 'elliptical', 'elliptical', 'elliptical',\n",
       "       'elliptical', 'elliptical', 'elliptical', 'elliptical',\n",
       "       'elliptical', 'elliptical', 'elliptical', 'elliptical',\n",
       "       'elliptical', 'elliptical', 'elliptical', 'elliptical',\n",
       "       'elliptical', 'elliptical', 'elliptical', 'elliptical',\n",
       "       'elliptical', 'elliptical', 'elliptical', 'elliptical',\n",
       "       'elliptical', 'elliptical', 'elliptical', 'elliptical',\n",
       "       'elliptical', 'elliptical', 'elliptical', 'elliptical',\n",
       "       'elliptical', 'elliptical', 'elliptical', 'elliptical',\n",
       "       'elliptical', 'elliptical', 'elliptical', 'elliptical',\n",
       "       'elliptical', 'elliptical', 'elliptical', 'elliptical',\n",
       "       'elliptical', 'elliptical', 'elliptical', 'elliptical',\n",
       "       'elliptical', 'elliptical', 'elliptical', 'elliptical',\n",
       "       'elliptical', 'elliptical', 'elliptical', 'elliptical',\n",
       "       'elliptical', 'elliptical', 'elliptical', 'elliptical',\n",
       "       'elliptical', 'elliptical', 'elliptical', 'elliptical',\n",
       "       'elliptical', 'elliptical', 'elliptical', 'elliptical',\n",
       "       'elliptical', 'elliptical', 'elliptical', 'elliptical',\n",
       "       'elliptical', 'elliptical', 'elliptical', 'elliptical',\n",
       "       'elliptical', 'elliptical', 'elliptical', 'elliptical',\n",
       "       'elliptical', 'elliptical', 'elliptical', 'elliptical',\n",
       "       'elliptical', 'elliptical', 'elliptical', 'elliptical',\n",
       "       'elliptical', 'elliptical', 'elliptical', 'elliptical',\n",
       "       'elliptical', 'elliptical', 'elliptical', 'elliptical',\n",
       "       'elliptical', 'spiral', 'spiral', 'spiral', 'spiral', 'spiral',\n",
       "       'spiral', 'spiral', 'spiral', 'spiral', 'spiral', 'spiral',\n",
       "       'spiral', 'spiral', 'spiral', 'spiral', 'spiral', 'spiral',\n",
       "       'spiral', 'spiral', 'spiral', 'spiral', 'spiral', 'spiral',\n",
       "       'spiral', 'spiral', 'spiral', 'spiral', 'spiral', 'spiral',\n",
       "       'spiral', 'spiral', 'spiral', 'spiral', 'spiral', 'spiral',\n",
       "       'spiral', 'spiral', 'spiral', 'spiral', 'spiral', 'spiral',\n",
       "       'spiral', 'spiral', 'spiral', 'spiral', 'spiral', 'spiral',\n",
       "       'spiral', 'spiral', 'spiral', 'spiral', 'spiral', 'spiral',\n",
       "       'spiral', 'spiral', 'spiral', 'spiral', 'spiral', 'spiral',\n",
       "       'spiral', 'spiral', 'spiral', 'spiral', 'spiral', 'spiral',\n",
       "       'spiral', 'spiral', 'spiral', 'spiral', 'spiral', 'spiral',\n",
       "       'spiral', 'spiral', 'spiral', 'spiral', 'spiral', 'spiral',\n",
       "       'spiral', 'spiral', 'spiral', 'spiral', 'spiral', 'spiral',\n",
       "       'spiral', 'spiral', 'spiral', 'spiral', 'spiral', 'spiral',\n",
       "       'spiral', 'spiral', 'spiral', 'spiral', 'spiral', 'spiral',\n",
       "       'spiral', 'spiral', 'spiral', 'spiral', 'spiral', 'spiral',\n",
       "       'spiral', 'spiral', 'spiral', 'spiral', 'spiral', 'spiral',\n",
       "       'spiral', 'spiral', 'spiral', 'spiral', 'spiral', 'spiral',\n",
       "       'spiral', 'spiral', 'spiral', 'spiral', 'spiral', 'spiral',\n",
       "       'spiral', 'spiral', 'spiral', 'spiral', 'spiral', 'spiral',\n",
       "       'spiral', 'spiral', 'spiral', 'spiral', 'spiral', 'spiral',\n",
       "       'spiral', 'spiral', 'spiral', 'spiral', 'spiral', 'spiral',\n",
       "       'spiral', 'spiral', 'spiral', 'spiral', 'spiral', 'spiral',\n",
       "       'spiral', 'spiral', 'spiral', 'spiral', 'spiral', 'spiral',\n",
       "       'spiral', 'spiral', 'spiral', 'spiral', 'spiral', 'spiral',\n",
       "       'spiral', 'spiral', 'spiral', 'spiral', 'spiral', 'spiral',\n",
       "       'spiral', 'spiral', 'spiral', 'spiral', 'spiral', 'spiral',\n",
       "       'spiral', 'spiral', 'spiral', 'spiral', 'spiral', 'spiral',\n",
       "       'spiral', 'spiral', 'spiral', 'spiral', 'spiral', 'spiral',\n",
       "       'spiral', 'spiral', 'spiral', 'spiral', 'spiral', 'spiral',\n",
       "       'spiral', 'spiral', 'spiral', 'spiral', 'spiral', 'spiral',\n",
       "       'spiral', 'spiral', 'spiral', 'spiral', 'spiral', 'spiral',\n",
       "       'spiral', 'spiral', 'spiral', 'spiral', 'spiral', 'spiral',\n",
       "       'spiral', 'spiral', 'spiral', 'spiral', 'spiral', 'spiral',\n",
       "       'spiral', 'spiral', 'spiral', 'spiral', 'spiral', 'spiral',\n",
       "       'spiral', 'spiral', 'spiral', 'spiral', 'spiral', 'spiral',\n",
       "       'spiral', 'spiral', 'spiral', 'spiral', 'spiral', 'spiral',\n",
       "       'spiral', 'spiral', 'spiral', 'spiral', 'spiral', 'spiral',\n",
       "       'spiral', 'spiral', 'spiral', 'spiral', 'spiral', 'spiral',\n",
       "       'spiral', 'spiral', 'spiral', 'spiral', 'spiral', 'spiral',\n",
       "       'spiral', 'spiral', 'spiral', 'spiral', 'spiral', 'spiral',\n",
       "       'spiral', 'spiral', 'spiral', 'spiral', 'spiral', 'spiral',\n",
       "       'spiral', 'spiral', 'spiral'], dtype='<U20')"
      ]
     },
     "execution_count": 19,
     "metadata": {},
     "output_type": "execute_result"
    }
   ],
   "source": [
    "data['class']"
   ]
  },
  {
   "cell_type": "code",
   "execution_count": 20,
   "metadata": {},
   "outputs": [],
   "source": [
    "np.random.seed(0)\n",
    "np.random.shuffle(data)"
   ]
  },
  {
   "cell_type": "code",
   "execution_count": 21,
   "metadata": {},
   "outputs": [
    {
     "data": {
      "text/plain": [
       "array(['spiral', 'elliptical', 'merger', 'merger', 'elliptical',\n",
       "       'elliptical', 'spiral', 'spiral', 'merger', 'spiral', 'merger',\n",
       "       'elliptical', 'spiral', 'spiral', 'merger', 'spiral', 'elliptical',\n",
       "       'elliptical', 'merger', 'elliptical', 'spiral', 'merger',\n",
       "       'elliptical', 'spiral', 'merger', 'spiral', 'spiral', 'spiral',\n",
       "       'spiral', 'spiral', 'merger', 'elliptical', 'merger', 'spiral',\n",
       "       'elliptical', 'elliptical', 'merger', 'merger', 'spiral', 'merger',\n",
       "       'elliptical', 'spiral', 'elliptical', 'merger', 'merger', 'merger',\n",
       "       'spiral', 'elliptical', 'elliptical', 'merger', 'elliptical',\n",
       "       'elliptical', 'elliptical', 'elliptical', 'spiral', 'elliptical',\n",
       "       'elliptical', 'merger', 'merger', 'merger', 'merger', 'elliptical',\n",
       "       'elliptical', 'spiral', 'spiral', 'elliptical', 'elliptical',\n",
       "       'elliptical', 'elliptical', 'elliptical', 'elliptical', 'spiral',\n",
       "       'spiral', 'merger', 'spiral', 'spiral', 'spiral', 'spiral',\n",
       "       'spiral', 'merger', 'elliptical', 'spiral', 'spiral', 'spiral',\n",
       "       'spiral', 'elliptical', 'spiral', 'spiral', 'spiral', 'elliptical',\n",
       "       'elliptical', 'merger', 'merger', 'elliptical', 'spiral', 'merger',\n",
       "       'elliptical', 'merger', 'merger', 'merger', 'spiral', 'merger',\n",
       "       'merger', 'spiral', 'elliptical', 'elliptical', 'merger', 'merger',\n",
       "       'merger', 'merger', 'spiral', 'spiral', 'elliptical', 'elliptical',\n",
       "       'elliptical', 'merger', 'spiral', 'spiral', 'spiral', 'elliptical',\n",
       "       'elliptical', 'spiral', 'spiral', 'elliptical', 'elliptical',\n",
       "       'spiral', 'merger', 'elliptical', 'merger', 'spiral', 'spiral',\n",
       "       'merger', 'elliptical', 'elliptical', 'spiral', 'merger', 'merger',\n",
       "       'elliptical', 'merger', 'spiral', 'merger', 'merger', 'merger',\n",
       "       'spiral', 'elliptical', 'elliptical', 'spiral', 'spiral', 'merger',\n",
       "       'merger', 'spiral', 'merger', 'elliptical', 'spiral', 'elliptical',\n",
       "       'elliptical', 'merger', 'elliptical', 'elliptical', 'elliptical',\n",
       "       'merger', 'merger', 'merger', 'spiral', 'elliptical', 'merger',\n",
       "       'elliptical', 'spiral', 'merger', 'spiral', 'merger', 'spiral',\n",
       "       'elliptical', 'elliptical', 'spiral', 'spiral', 'spiral', 'spiral',\n",
       "       'elliptical', 'merger', 'elliptical', 'elliptical', 'merger',\n",
       "       'spiral', 'elliptical', 'spiral', 'merger', 'merger', 'merger',\n",
       "       'spiral', 'merger', 'merger', 'elliptical', 'merger', 'merger',\n",
       "       'spiral', 'spiral', 'spiral', 'merger', 'merger', 'elliptical',\n",
       "       'spiral', 'merger', 'merger', 'spiral', 'elliptical', 'merger',\n",
       "       'spiral', 'merger', 'spiral', 'elliptical', 'merger', 'elliptical',\n",
       "       'merger', 'elliptical', 'merger', 'elliptical', 'elliptical',\n",
       "       'spiral', 'merger', 'merger', 'elliptical', 'merger', 'spiral',\n",
       "       'elliptical', 'merger', 'spiral', 'merger', 'elliptical', 'spiral',\n",
       "       'elliptical', 'spiral', 'spiral', 'merger', 'merger', 'elliptical',\n",
       "       'merger', 'merger', 'spiral', 'elliptical', 'merger', 'spiral',\n",
       "       'elliptical', 'spiral', 'elliptical', 'elliptical', 'spiral',\n",
       "       'merger', 'elliptical', 'elliptical', 'spiral', 'elliptical',\n",
       "       'merger', 'merger', 'merger', 'spiral', 'elliptical', 'elliptical',\n",
       "       'merger', 'elliptical', 'spiral', 'spiral', 'elliptical', 'spiral',\n",
       "       'elliptical', 'elliptical', 'elliptical', 'merger', 'spiral',\n",
       "       'spiral', 'elliptical', 'spiral', 'spiral', 'spiral', 'merger',\n",
       "       'merger', 'elliptical', 'merger', 'elliptical', 'elliptical',\n",
       "       'merger', 'elliptical', 'elliptical', 'spiral', 'merger',\n",
       "       'elliptical', 'spiral', 'elliptical', 'merger', 'spiral',\n",
       "       'elliptical', 'merger', 'elliptical', 'merger', 'spiral',\n",
       "       'elliptical', 'merger', 'elliptical', 'merger', 'merger', 'merger',\n",
       "       'merger', 'spiral', 'spiral', 'merger', 'spiral', 'merger',\n",
       "       'spiral', 'elliptical', 'elliptical', 'merger', 'elliptical',\n",
       "       'merger', 'merger', 'merger', 'merger', 'spiral', 'elliptical',\n",
       "       'merger', 'merger', 'elliptical', 'merger', 'elliptical', 'merger',\n",
       "       'spiral', 'merger', 'merger', 'spiral', 'elliptical', 'merger',\n",
       "       'elliptical', 'elliptical', 'merger', 'elliptical', 'spiral',\n",
       "       'elliptical', 'spiral', 'merger', 'merger', 'spiral', 'elliptical',\n",
       "       'spiral', 'elliptical', 'merger', 'merger', 'elliptical',\n",
       "       'elliptical', 'merger', 'spiral', 'elliptical', 'spiral', 'spiral',\n",
       "       'spiral', 'spiral', 'merger', 'spiral', 'elliptical', 'spiral',\n",
       "       'elliptical', 'spiral', 'spiral', 'spiral', 'spiral', 'merger',\n",
       "       'spiral', 'elliptical', 'elliptical', 'elliptical', 'spiral',\n",
       "       'merger', 'elliptical', 'spiral', 'merger', 'merger', 'elliptical',\n",
       "       'merger', 'merger', 'elliptical', 'spiral', 'elliptical', 'spiral',\n",
       "       'elliptical', 'spiral', 'merger', 'merger', 'merger', 'elliptical',\n",
       "       'spiral', 'elliptical', 'spiral', 'spiral', 'merger', 'spiral',\n",
       "       'elliptical', 'elliptical', 'merger', 'merger', 'merger',\n",
       "       'elliptical', 'spiral', 'merger', 'elliptical', 'spiral', 'spiral',\n",
       "       'merger', 'spiral', 'merger', 'elliptical', 'merger', 'spiral',\n",
       "       'elliptical', 'spiral', 'elliptical', 'spiral', 'elliptical',\n",
       "       'merger', 'elliptical', 'elliptical', 'spiral', 'merger', 'merger',\n",
       "       'elliptical', 'spiral', 'spiral', 'elliptical', 'elliptical',\n",
       "       'elliptical', 'spiral', 'merger', 'merger', 'merger', 'elliptical',\n",
       "       'merger', 'elliptical', 'elliptical', 'spiral', 'spiral',\n",
       "       'elliptical', 'elliptical', 'spiral', 'elliptical', 'elliptical',\n",
       "       'elliptical', 'elliptical', 'merger', 'merger', 'spiral', 'spiral',\n",
       "       'spiral', 'elliptical', 'elliptical', 'elliptical', 'merger',\n",
       "       'spiral', 'elliptical', 'merger', 'elliptical', 'spiral',\n",
       "       'elliptical', 'spiral', 'merger', 'spiral', 'elliptical', 'spiral',\n",
       "       'elliptical', 'spiral', 'merger', 'merger', 'spiral', 'elliptical',\n",
       "       'merger', 'spiral', 'elliptical', 'spiral', 'merger', 'spiral',\n",
       "       'elliptical', 'elliptical', 'elliptical', 'elliptical',\n",
       "       'elliptical', 'elliptical', 'spiral', 'elliptical', 'elliptical',\n",
       "       'merger', 'spiral', 'elliptical', 'elliptical', 'elliptical',\n",
       "       'merger', 'merger', 'spiral', 'merger', 'elliptical', 'elliptical',\n",
       "       'spiral', 'spiral', 'merger', 'spiral', 'merger', 'elliptical',\n",
       "       'spiral', 'spiral', 'elliptical', 'spiral', 'spiral', 'merger',\n",
       "       'merger', 'merger', 'spiral', 'spiral', 'merger', 'merger',\n",
       "       'merger', 'spiral', 'elliptical', 'elliptical', 'elliptical',\n",
       "       'spiral', 'elliptical', 'spiral', 'merger', 'elliptical', 'merger',\n",
       "       'spiral', 'spiral', 'elliptical', 'spiral', 'spiral', 'spiral',\n",
       "       'elliptical', 'elliptical', 'merger', 'elliptical', 'elliptical',\n",
       "       'elliptical', 'merger', 'spiral', 'merger', 'elliptical', 'merger',\n",
       "       'merger', 'elliptical', 'spiral', 'spiral', 'merger', 'merger',\n",
       "       'elliptical', 'elliptical', 'spiral', 'spiral', 'spiral', 'spiral',\n",
       "       'merger', 'merger', 'elliptical', 'spiral', 'merger', 'spiral',\n",
       "       'elliptical', 'spiral', 'spiral', 'merger', 'merger', 'merger',\n",
       "       'merger', 'elliptical', 'merger', 'spiral', 'merger', 'elliptical',\n",
       "       'spiral', 'elliptical', 'elliptical', 'merger', 'elliptical',\n",
       "       'spiral', 'spiral', 'spiral', 'spiral', 'spiral', 'merger',\n",
       "       'spiral', 'spiral', 'elliptical', 'merger', 'merger', 'spiral',\n",
       "       'spiral', 'spiral', 'spiral', 'merger', 'merger', 'merger',\n",
       "       'elliptical', 'merger', 'merger', 'elliptical', 'merger', 'merger',\n",
       "       'merger', 'elliptical', 'spiral', 'elliptical', 'spiral', 'spiral',\n",
       "       'spiral', 'spiral', 'elliptical', 'elliptical', 'elliptical',\n",
       "       'merger', 'elliptical', 'merger', 'spiral', 'elliptical', 'merger',\n",
       "       'elliptical', 'merger', 'merger', 'merger', 'merger', 'spiral',\n",
       "       'spiral', 'elliptical', 'spiral', 'merger', 'elliptical',\n",
       "       'elliptical', 'spiral', 'merger', 'elliptical', 'elliptical',\n",
       "       'spiral', 'merger', 'elliptical', 'elliptical', 'elliptical',\n",
       "       'merger', 'merger', 'elliptical', 'spiral', 'elliptical',\n",
       "       'elliptical', 'spiral', 'spiral', 'elliptical', 'merger',\n",
       "       'elliptical', 'spiral', 'spiral', 'elliptical', 'spiral', 'merger',\n",
       "       'merger', 'merger', 'elliptical', 'merger', 'merger', 'merger',\n",
       "       'merger', 'merger', 'merger', 'elliptical', 'spiral', 'merger',\n",
       "       'merger', 'spiral', 'merger', 'spiral', 'merger', 'elliptical',\n",
       "       'merger', 'merger', 'spiral', 'spiral', 'elliptical', 'elliptical',\n",
       "       'elliptical', 'merger', 'elliptical', 'spiral', 'spiral',\n",
       "       'elliptical', 'elliptical', 'merger', 'spiral', 'merger', 'merger',\n",
       "       'spiral', 'spiral', 'merger', 'spiral', 'elliptical', 'spiral',\n",
       "       'elliptical', 'merger', 'spiral', 'merger', 'merger', 'merger',\n",
       "       'spiral', 'merger', 'elliptical', 'merger', 'merger', 'spiral',\n",
       "       'spiral', 'spiral', 'elliptical', 'merger', 'merger', 'elliptical',\n",
       "       'merger', 'elliptical', 'merger', 'elliptical', 'merger', 'spiral',\n",
       "       'elliptical', 'merger', 'spiral', 'elliptical', 'elliptical',\n",
       "       'elliptical', 'elliptical', 'spiral', 'merger', 'spiral', 'merger',\n",
       "       'merger', 'merger', 'elliptical', 'elliptical', 'spiral', 'merger',\n",
       "       'merger', 'spiral', 'spiral', 'spiral', 'spiral', 'spiral',\n",
       "       'elliptical', 'elliptical', 'elliptical', 'merger', 'spiral',\n",
       "       'merger', 'merger', 'elliptical', 'elliptical', 'spiral', 'merger',\n",
       "       'merger', 'spiral', 'spiral', 'spiral', 'merger', 'merger',\n",
       "       'spiral', 'elliptical', 'spiral', 'elliptical', 'elliptical',\n",
       "       'spiral', 'elliptical', 'merger', 'spiral', 'spiral', 'elliptical',\n",
       "       'spiral', 'merger', 'elliptical', 'spiral', 'spiral', 'merger',\n",
       "       'spiral', 'spiral', 'spiral'], dtype='<U20')"
      ]
     },
     "execution_count": 21,
     "metadata": {},
     "output_type": "execute_result"
    }
   ],
   "source": [
    "data['class']"
   ]
  },
  {
   "cell_type": "code",
   "execution_count": 45,
   "metadata": {},
   "outputs": [],
   "source": [
    "def splitdata_train_test(data, fraction_training):\n",
    "  # complete this function\n",
    "  #data=np.load('galaxy_catalogue.npy')\n",
    "  np.random.seed(0)\n",
    "  np.random.shuffle(data)\n",
    "  split_index = int(fraction_training*len(data))\n",
    "  return data[0:split_index], data[split_index:]"
   ]
  },
  {
   "cell_type": "code",
   "execution_count": 46,
   "metadata": {},
   "outputs": [],
   "source": [
    "fraction_training = 0.7\n",
    "\n",
    "  # split the data using your function\n",
    "training, testing = splitdata_train_test(data, fraction_training)\n"
   ]
  },
  {
   "cell_type": "code",
   "execution_count": 47,
   "metadata": {},
   "outputs": [
    {
     "name": "stdout",
     "output_type": "stream",
     "text": [
      "Number data galaxies: 780\n",
      "Train fraction: 0.7\n",
      "Number of galaxies in training set: 546\n",
      "Number of galaxies in testing set: 234\n"
     ]
    }
   ],
   "source": [
    "print('Number data galaxies:', len(data))\n",
    "print('Train fraction:', fraction_training)\n",
    "print('Number of galaxies in training set:', len(training))\n",
    "print('Number of galaxies in testing set:', len(testing))"
   ]
  },
  {
   "cell_type": "code",
   "execution_count": 48,
   "metadata": {},
   "outputs": [],
   "source": [
    "def generate_features_targets(data):\n",
    "  # complete the function by calculating the concentrations\n",
    "\n",
    "  targets = data['class']\n",
    "\n",
    "  features = np.empty(shape=(len(data), 13))\n",
    "  features[:, 0] = data['u-g']\n",
    "  features[:, 1] = data['g-r']\n",
    "  features[:, 2] = data['r-i']\n",
    "  features[:, 3] = data['i-z']\n",
    "  features[:, 4] = data['ecc']\n",
    "  features[:, 5] = data['m4_u']\n",
    "  features[:, 6] = data['m4_g']\n",
    "  features[:, 7] = data['m4_r']\n",
    "  features[:, 8] = data['m4_i']\n",
    "  features[:, 9] = data['m4_z']\n",
    "\n",
    "  # fill the remaining 3 columns with concentrations in the u, r and z filters\n",
    "  # concentration in u filter\n",
    "  features[:, 10] = data['petroR50_u']/data['petroR90_u']\n",
    "  # concentration in r filter\n",
    "  features[:, 11] = data['petroR50_r']/data['petroR90_r']\n",
    "  # concentration in z filter\n",
    "  features[:, 12] = data['petroR50_z']/data['petroR90_z']\n",
    "\n",
    "  return features, targets\n"
   ]
  },
  {
   "cell_type": "code",
   "execution_count": 49,
   "metadata": {},
   "outputs": [],
   "source": [
    "features, targets = generate_features_targets(data)"
   ]
  },
  {
   "cell_type": "code",
   "execution_count": 50,
   "metadata": {},
   "outputs": [
    {
     "name": "stdout",
     "output_type": "stream",
     "text": [
      "Features shape: (780, 13)\n",
      "Targets shape: (780,)\n"
     ]
    }
   ],
   "source": [
    "print(\"Features shape:\", features.shape)\n",
    "print(\"Targets shape:\", targets.shape)"
   ]
  },
  {
   "cell_type": "code",
   "execution_count": 51,
   "metadata": {},
   "outputs": [],
   "source": [
    "from sklearn.tree import DecisionTreeClassifier\n",
    "def dtc_predict_actual(data):\n",
    "  np.random.seed(0)\n",
    "  np.random.shuffle(data)\n",
    "  train, test = splitdata_train_test(data, 0.7)\n",
    "  \n",
    "  \n",
    "  # split the data into training and testing sets using a training fraction of 0.7\n",
    "  #np.random.seed(0)\n",
    "  #np.random.shuffle(features)\n",
    "  #np.random.shuffle(targets)\n",
    "  train_features, train_targets = generate_features_targets(train)\n",
    "  test_features, test_targets = generate_features_targets(test)\n",
    "    \n",
    "    \n",
    "  \n",
    "  \n",
    "\n",
    "  # generate the feature and targets for the training and test sets\n",
    "  \n",
    "  # i.e. train_features, train_targets, test_features, test_targets\n",
    "\n",
    "\n",
    "  # instantiate a decision tree classifier\n",
    "  dtc=DecisionTreeClassifier()\n",
    "\n",
    "  # train the classifier with the train_features and train_targets\n",
    "  dtc.fit(train_features,train_targets)\n",
    "\n",
    "  # get predictions for the test_features\n",
    "  predictions=dtc.predict(test_features)\n",
    "\n",
    "  # return the predictions and the test_targets\n",
    "  return predictions,test_targets\n"
   ]
  },
  {
   "cell_type": "code",
   "execution_count": 52,
   "metadata": {},
   "outputs": [],
   "source": [
    "predicted_class, actual_class = dtc_predict_actual(data)"
   ]
  },
  {
   "cell_type": "code",
   "execution_count": 54,
   "metadata": {},
   "outputs": [
    {
     "name": "stdout",
     "output_type": "stream",
     "text": [
      "Some initial results...\n",
      "   predicted,  actual\n",
      "0. elliptical, elliptical\n",
      "1. elliptical, merger\n",
      "2. elliptical, elliptical\n",
      "3. elliptical, elliptical\n",
      "4. spiral, spiral\n",
      "5. merger, merger\n",
      "6. elliptical, elliptical\n",
      "7. elliptical, elliptical\n",
      "8. spiral, spiral\n",
      "9. spiral, merger\n"
     ]
    }
   ],
   "source": [
    "print(\"Some initial results...\\n   predicted,  actual\")\n",
    "for i in range(10):\n",
    "    print(\"{}. {}, {}\".format(i, predicted_class[i], actual_class[i]))"
   ]
  },
  {
   "cell_type": "code",
   "execution_count": 55,
   "metadata": {},
   "outputs": [],
   "source": [
    "def calculate_accuracy(predicted, actual):\n",
    "  return sum(predicted == actual)/len(actual)\n",
    "  "
   ]
  },
  {
   "cell_type": "code",
   "execution_count": 64,
   "metadata": {},
   "outputs": [
    {
     "name": "stdout",
     "output_type": "stream",
     "text": [
      "Our accuracy score: 0.7987179487179488\n",
      "Confusion matrix, without normalization\n",
      "[[236  22   2]\n",
      " [ 22 178  60]\n",
      " [  3  48 209]]\n"
     ]
    },
    {
     "data": {
      "image/png": "[encoded data removed]",
      "text/plain": [
       "<Figure size 432x288 with 2 Axes>"
      ]
     },
     "metadata": {
      "needs_background": "light"
     },
     "output_type": "display_data"
    }
   ],
   "source": [
    "\n",
    "from sklearn.tree import DecisionTreeClassifier\n",
    "import numpy as np\n",
    "import itertools\n",
    "from sklearn.model_selection import cross_val_predict\n",
    "from sklearn.metrics import confusion_matrix\n",
    "from matplotlib import pyplot as plt\n",
    "features, targets = generate_features_targets(data)\n",
    "def plot_confusion_matrix(cm, classes,\n",
    "                          normalize=False,\n",
    "                          title='Confusion matrix',\n",
    "                          cmap=plt.cm.Blues):\n",
    "    \n",
    "    \"\"\"\n",
    "    This function prints and plots the confusion matrix.\n",
    "    Normalization can be applied by setting `normalize=True`.\n",
    "    \"\"\"\n",
    "    plt.imshow(cm, interpolation='nearest', cmap=cmap)\n",
    "    plt.title(title)\n",
    "    plt.colorbar()\n",
    "    tick_marks = np.arange(len(classes))\n",
    "    plt.xticks(tick_marks, classes, rotation=45)\n",
    "    plt.yticks(tick_marks, classes)\n",
    "\n",
    "    if normalize:\n",
    "        cm = cm.astype('float') / cm.sum(axis=1)[:, np.newaxis]\n",
    "        print(\"Normalized confusion matrix\")\n",
    "    else:\n",
    "        print('Confusion matrix, without normalization')\n",
    "\n",
    "    print(cm)\n",
    "\n",
    "    thresh = cm.max() / 2.\n",
    "    for i, j in itertools.product(range(cm.shape[0]), range(cm.shape[1])):\n",
    "        plt.text(j, i, \"{}\".format(cm[i, j]),\n",
    "                 horizontalalignment=\"center\",\n",
    "                 color=\"white\" if cm[i, j] > thresh else \"black\")\n",
    "\n",
    "    plt.tight_layout()\n",
    "    plt.ylabel('True Class')\n",
    "    plt.xlabel('Predicted Class')\n",
    "\n",
    "\n",
    "  # train the model to get predicted and actual classes\n",
    "dtc = DecisionTreeClassifier()\n",
    "predicted = cross_val_predict(dtc, features, targets, cv=10)\n",
    "\n",
    "  # calculate the model score using your function\n",
    "model_score = calculate_accuracy(predicted, targets)\n",
    "print(\"Our accuracy score:\", model_score)\n",
    "\n",
    "  # calculate the models confusion matrix using sklearns confusion_matrix function\n",
    "class_labels = list(set(targets))\n",
    "model_cm = confusion_matrix(y_true=targets, y_pred=predicted, labels=class_labels)\n",
    "\n",
    "  # Plot the confusion matrix using the provided functions.\n",
    "plt.figure()\n",
    "plot_confusion_matrix(model_cm, classes=class_labels, normalize=False)\n",
    "plt.show()"
   ]
  },
  {
   "cell_type": "code",
   "execution_count": 66,
   "metadata": {},
   "outputs": [],
   "source": [
    "def rf_predict_actual(data, n_estimators):\n",
    "  # generate the features and targets\\\n",
    "  features,targets=generate_features_targets(data)\n",
    "    \n",
    "  # instantiate a random forest classifier using n estimators\n",
    "  rfc = RandomForestClassifier(n_estimators=n_estimators)\n",
    "  \n",
    "  \n",
    "  # get predictions using 10-fold cross validation with cross_val_predict\n",
    "  predicted = cross_val_predict(rfc, features, targets, cv=10)\n",
    "\n",
    "  # return the predictions and their actual classes\n",
    "  return predicted, targets\n"
   ]
  },
  {
   "cell_type": "code",
   "execution_count": 70,
   "metadata": {},
   "outputs": [
    {
     "name": "stdout",
     "output_type": "stream",
     "text": [
      "Accuracy score: 0.8692307692307693\n",
      "Confusion matrix, without normalization\n",
      "[[249  10   1]\n",
      " [ 12 214  34]\n",
      " [  2  43 215]]\n"
     ]
    },
    {
     "data": {
      "image/png": "[encoded data removed]",
      "text/plain": [
       "<Figure size 432x288 with 2 Axes>"
      ]
     },
     "metadata": {
      "needs_background": "light"
     },
     "output_type": "display_data"
    }
   ],
   "source": [
    "import numpy as np\n",
    "from matplotlib import pyplot as plt\n",
    "from sklearn.metrics import confusion_matrix\n",
    "from sklearn.model_selection import cross_val_predict\n",
    "from sklearn.ensemble import RandomForestClassifier\n",
    "#from support_functions import generate_features_targets, plot_confusion_matrix, calculate_accuracy\n",
    "number_estimators = 50              # Number of trees\n",
    "predicted, actual = rf_predict_actual(data, number_estimators)\n",
    "\n",
    "  # calculate the model score using your function\n",
    "accuracy = calculate_accuracy(predicted, actual)\n",
    "print(\"Accuracy score:\", accuracy)\n",
    "\n",
    "  # calculate the models confusion matrix using sklearns confusion_matrix function\n",
    "class_labels = list(set(actual))\n",
    "model_cm = confusion_matrix(y_true=actual, y_pred=predicted, labels=class_labels)\n",
    "\n",
    "  # plot the confusion matrix using the provided functions.\n",
    "plt.figure()\n",
    "plot_confusion_matrix(model_cm, classes=class_labels, normalize=False)\n",
    "plt.show()\n"
   ]
  },
  {
   "cell_type": "code",
   "execution_count": null,
   "metadata": {},
   "outputs": [],
   "source": []
  }
 ],
 "metadata": {
  "kernelspec": {
   "display_name": "Python 3",
   "language": "python",
   "name": "python3"
  },
  "language_info": {
   "codemirror_mode": {
    "name": "ipython",
    "version": 3
   },
   "file_extension": ".py",
   "mimetype": "text/x-python",
   "name": "python",
   "nbconvert_exporter": "python",
   "pygments_lexer": "ipython3",
   "version": "3.7.6"
  }
 },
 "nbformat": 4,
 "nbformat_minor": 4
}
